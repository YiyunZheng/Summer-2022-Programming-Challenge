{
  "nbformat": 4,
  "nbformat_minor": 0,
  "metadata": {
    "colab": {
      "name": "Summer 2022 Programming Challenge.ipynb",
      "provenance": [],
      "collapsed_sections": []
    },
    "kernelspec": {
      "name": "python3",
      "display_name": "Python 3"
    },
    "language_info": {
      "name": "python"
    }
  },
  "cells": [
    {
      "cell_type": "markdown",
      "source": [
        "# 1. Web Scraping"
      ],
      "metadata": {
        "id": "lN3-CFXCAqEZ"
      }
    },
    {
      "cell_type": "code",
      "source": [
        "url = \"https://www.aljazeera.com/where/mozambique/\""
      ],
      "metadata": {
        "id": "hknZSOIMBbeo"
      },
      "execution_count": 2,
      "outputs": []
    },
    {
      "cell_type": "markdown",
      "source": [
        "Its a dynamic website so I use selenium to get the content"
      ],
      "metadata": {
        "id": "PZ8ds_S0CaPR"
      }
    },
    {
      "cell_type": "code",
      "execution_count": 168,
      "metadata": {
        "colab": {
          "base_uri": "https://localhost:8080/",
          "height": 1000
        },
        "id": "M6JMOa0C_T2N",
        "outputId": "7411e7a3-8d21-4031-8946-127e0d03dafc"
      },
      "outputs": [
        {
          "output_type": "stream",
          "name": "stdout",
          "text": [
            "Looking in indexes: https://pypi.org/simple, https://us-python.pkg.dev/colab-wheels/public/simple/\n",
            "Requirement already satisfied: html5print in /usr/local/lib/python3.7/dist-packages (0.1.2)\n",
            "Requirement already satisfied: chardet>=2.2.1 in /usr/local/lib/python3.7/dist-packages (from html5print) (3.0.4)\n",
            "Requirement already satisfied: html5lib>=0.999 in /usr/local/lib/python3.7/dist-packages (from html5print) (1.0.1)\n",
            "Requirement already satisfied: ply==3.4 in /usr/local/lib/python3.7/dist-packages (from html5print) (3.4)\n",
            "Requirement already satisfied: beautifulsoup4>=4.3.2 in /usr/local/lib/python3.7/dist-packages (from html5print) (4.6.3)\n",
            "Requirement already satisfied: slimit>=0.8.1 in /usr/local/lib/python3.7/dist-packages (from html5print) (0.8.1)\n",
            "Requirement already satisfied: tinycss2>=0.4 in /usr/local/lib/python3.7/dist-packages (from html5print) (1.1.1)\n",
            "Requirement already satisfied: requests>=2.3.5 in /usr/local/lib/python3.7/dist-packages (from html5print) (2.27.1)\n",
            "Requirement already satisfied: six>=1.9 in /usr/local/lib/python3.7/dist-packages (from html5lib>=0.999->html5print) (1.15.0)\n",
            "Requirement already satisfied: webencodings in /usr/local/lib/python3.7/dist-packages (from html5lib>=0.999->html5print) (0.5.1)\n",
            "Requirement already satisfied: urllib3<1.27,>=1.21.1 in /usr/local/lib/python3.7/dist-packages (from requests>=2.3.5->html5print) (1.25.11)\n",
            "Requirement already satisfied: certifi>=2017.4.17 in /usr/local/lib/python3.7/dist-packages (from requests>=2.3.5->html5print) (2022.5.18.1)\n",
            "Requirement already satisfied: idna<4,>=2.5 in /usr/local/lib/python3.7/dist-packages (from requests>=2.3.5->html5print) (2.10)\n",
            "Requirement already satisfied: charset-normalizer~=2.0.0 in /usr/local/lib/python3.7/dist-packages (from requests>=2.3.5->html5print) (2.0.12)\n",
            "Looking in indexes: https://pypi.org/simple, https://us-python.pkg.dev/colab-wheels/public/simple/\n",
            "Requirement already satisfied: flair in /usr/local/lib/python3.7/dist-packages (0.11.3)\n",
            "Requirement already satisfied: matplotlib>=2.2.3 in /usr/local/lib/python3.7/dist-packages (from flair) (3.2.2)\n",
            "Requirement already satisfied: pptree in /usr/local/lib/python3.7/dist-packages (from flair) (3.1)\n",
            "Requirement already satisfied: scikit-learn>=0.21.3 in /usr/local/lib/python3.7/dist-packages (from flair) (1.0.2)\n",
            "Requirement already satisfied: segtok>=1.5.7 in /usr/local/lib/python3.7/dist-packages (from flair) (1.5.11)\n",
            "Requirement already satisfied: gensim>=3.4.0 in /usr/local/lib/python3.7/dist-packages (from flair) (3.6.0)\n",
            "Requirement already satisfied: lxml in /usr/local/lib/python3.7/dist-packages (from flair) (4.2.6)\n",
            "Requirement already satisfied: mpld3==0.3 in /usr/local/lib/python3.7/dist-packages (from flair) (0.3)\n",
            "Requirement already satisfied: konoha<5.0.0,>=4.0.0 in /usr/local/lib/python3.7/dist-packages (from flair) (4.6.5)\n",
            "Requirement already satisfied: langdetect in /usr/local/lib/python3.7/dist-packages (from flair) (1.0.9)\n",
            "Requirement already satisfied: more-itertools in /usr/local/lib/python3.7/dist-packages (from flair) (8.13.0)\n",
            "Requirement already satisfied: conllu>=4.0 in /usr/local/lib/python3.7/dist-packages (from flair) (4.4.2)\n",
            "Requirement already satisfied: wikipedia-api in /usr/local/lib/python3.7/dist-packages (from flair) (0.5.4)\n",
            "Requirement already satisfied: transformers>=4.0.0 in /usr/local/lib/python3.7/dist-packages (from flair) (4.19.2)\n",
            "Requirement already satisfied: deprecated>=1.2.4 in /usr/local/lib/python3.7/dist-packages (from flair) (1.2.13)\n",
            "Requirement already satisfied: torch!=1.8,>=1.5.0 in /usr/local/lib/python3.7/dist-packages (from flair) (1.11.0+cu113)\n",
            "Requirement already satisfied: python-dateutil>=2.6.1 in /usr/local/lib/python3.7/dist-packages (from flair) (2.8.2)\n",
            "Requirement already satisfied: janome in /usr/local/lib/python3.7/dist-packages (from flair) (0.4.2)\n",
            "Requirement already satisfied: sqlitedict>=1.6.0 in /usr/local/lib/python3.7/dist-packages (from flair) (2.0.0)\n",
            "Requirement already satisfied: huggingface-hub in /usr/local/lib/python3.7/dist-packages (from flair) (0.7.0)\n",
            "Requirement already satisfied: bpemb>=0.3.2 in /usr/local/lib/python3.7/dist-packages (from flair) (0.3.3)\n",
            "Requirement already satisfied: gdown==4.4.0 in /usr/local/lib/python3.7/dist-packages (from flair) (4.4.0)\n",
            "Requirement already satisfied: tabulate in /usr/local/lib/python3.7/dist-packages (from flair) (0.8.9)\n",
            "Requirement already satisfied: hyperopt>=0.2.7 in /usr/local/lib/python3.7/dist-packages (from flair) (0.2.7)\n",
            "Requirement already satisfied: ftfy in /usr/local/lib/python3.7/dist-packages (from flair) (6.1.1)\n",
            "Requirement already satisfied: sentencepiece==0.1.95 in /usr/local/lib/python3.7/dist-packages (from flair) (0.1.95)\n",
            "Requirement already satisfied: regex in /usr/local/lib/python3.7/dist-packages (from flair) (2019.12.20)\n",
            "Requirement already satisfied: tqdm>=4.26.0 in /usr/local/lib/python3.7/dist-packages (from flair) (4.64.0)\n",
            "Requirement already satisfied: beautifulsoup4 in /usr/local/lib/python3.7/dist-packages (from gdown==4.4.0->flair) (4.6.3)\n",
            "Requirement already satisfied: requests[socks] in /usr/local/lib/python3.7/dist-packages (from gdown==4.4.0->flair) (2.27.1)\n",
            "Requirement already satisfied: six in /usr/local/lib/python3.7/dist-packages (from gdown==4.4.0->flair) (1.15.0)\n",
            "Requirement already satisfied: filelock in /usr/local/lib/python3.7/dist-packages (from gdown==4.4.0->flair) (3.7.0)\n",
            "Requirement already satisfied: numpy in /usr/local/lib/python3.7/dist-packages (from bpemb>=0.3.2->flair) (1.21.6)\n",
            "Requirement already satisfied: wrapt<2,>=1.10 in /usr/local/lib/python3.7/dist-packages (from deprecated>=1.2.4->flair) (1.14.1)\n",
            "Requirement already satisfied: scipy>=0.18.1 in /usr/local/lib/python3.7/dist-packages (from gensim>=3.4.0->flair) (1.4.1)\n",
            "Requirement already satisfied: smart-open>=1.2.1 in /usr/local/lib/python3.7/dist-packages (from gensim>=3.4.0->flair) (6.0.0)\n",
            "Requirement already satisfied: cloudpickle in /usr/local/lib/python3.7/dist-packages (from hyperopt>=0.2.7->flair) (1.3.0)\n",
            "Requirement already satisfied: networkx>=2.2 in /usr/local/lib/python3.7/dist-packages (from hyperopt>=0.2.7->flair) (2.6.3)\n",
            "Requirement already satisfied: future in /usr/local/lib/python3.7/dist-packages (from hyperopt>=0.2.7->flair) (0.16.0)\n",
            "Requirement already satisfied: py4j in /usr/local/lib/python3.7/dist-packages (from hyperopt>=0.2.7->flair) (0.10.9.5)\n",
            "Requirement already satisfied: overrides<4.0.0,>=3.0.0 in /usr/local/lib/python3.7/dist-packages (from konoha<5.0.0,>=4.0.0->flair) (3.1.0)\n",
            "Requirement already satisfied: importlib-metadata<4.0.0,>=3.7.0 in /usr/local/lib/python3.7/dist-packages (from konoha<5.0.0,>=4.0.0->flair) (3.10.1)\n",
            "Requirement already satisfied: zipp>=0.5 in /usr/local/lib/python3.7/dist-packages (from importlib-metadata<4.0.0,>=3.7.0->konoha<5.0.0,>=4.0.0->flair) (3.8.0)\n",
            "Requirement already satisfied: typing-extensions>=3.6.4 in /usr/local/lib/python3.7/dist-packages (from importlib-metadata<4.0.0,>=3.7.0->konoha<5.0.0,>=4.0.0->flair) (4.2.0)\n",
            "Requirement already satisfied: pyparsing!=2.0.4,!=2.1.2,!=2.1.6,>=2.0.1 in /usr/local/lib/python3.7/dist-packages (from matplotlib>=2.2.3->flair) (3.0.9)\n",
            "Requirement already satisfied: kiwisolver>=1.0.1 in /usr/local/lib/python3.7/dist-packages (from matplotlib>=2.2.3->flair) (1.4.2)\n",
            "Requirement already satisfied: cycler>=0.10 in /usr/local/lib/python3.7/dist-packages (from matplotlib>=2.2.3->flair) (0.11.0)\n",
            "Requirement already satisfied: charset-normalizer~=2.0.0 in /usr/local/lib/python3.7/dist-packages (from requests[socks]->gdown==4.4.0->flair) (2.0.12)\n",
            "Requirement already satisfied: idna<4,>=2.5 in /usr/local/lib/python3.7/dist-packages (from requests[socks]->gdown==4.4.0->flair) (2.10)\n",
            "Requirement already satisfied: certifi>=2017.4.17 in /usr/local/lib/python3.7/dist-packages (from requests[socks]->gdown==4.4.0->flair) (2022.5.18.1)\n",
            "Requirement already satisfied: urllib3<1.27,>=1.21.1 in /usr/local/lib/python3.7/dist-packages (from requests[socks]->gdown==4.4.0->flair) (1.25.11)\n",
            "Requirement already satisfied: threadpoolctl>=2.0.0 in /usr/local/lib/python3.7/dist-packages (from scikit-learn>=0.21.3->flair) (3.1.0)\n",
            "Requirement already satisfied: joblib>=0.11 in /usr/local/lib/python3.7/dist-packages (from scikit-learn>=0.21.3->flair) (1.1.0)\n",
            "Requirement already satisfied: tokenizers!=0.11.3,<0.13,>=0.11.1 in /usr/local/lib/python3.7/dist-packages (from transformers>=4.0.0->flair) (0.12.1)\n",
            "Requirement already satisfied: packaging>=20.0 in /usr/local/lib/python3.7/dist-packages (from transformers>=4.0.0->flair) (21.3)\n",
            "Requirement already satisfied: pyyaml>=5.1 in /usr/local/lib/python3.7/dist-packages (from transformers>=4.0.0->flair) (6.0)\n",
            "Requirement already satisfied: wcwidth>=0.2.5 in /usr/local/lib/python3.7/dist-packages (from ftfy->flair) (0.2.5)\n",
            "Requirement already satisfied: PySocks!=1.5.7,>=1.5.6 in /usr/local/lib/python3.7/dist-packages (from requests[socks]->gdown==4.4.0->flair) (1.7.1)\n",
            "Looking in indexes: https://pypi.org/simple, https://us-python.pkg.dev/colab-wheels/public/simple/\n",
            "Collecting kaleido\n",
            "  Downloading kaleido-0.2.1-py2.py3-none-manylinux1_x86_64.whl (79.9 MB)\n",
            "\u001b[K     |████████████████████████████████| 79.9 MB 1.3 MB/s \n",
            "\u001b[?25hInstalling collected packages: kaleido\n",
            "Successfully installed kaleido-0.2.1\n",
            "Looking in indexes: https://pypi.org/simple, https://us-python.pkg.dev/colab-wheels/public/simple/\n",
            "Requirement already satisfied: selenium in /usr/local/lib/python3.7/dist-packages (4.2.0)\n",
            "Requirement already satisfied: trio~=0.17 in /usr/local/lib/python3.7/dist-packages (from selenium) (0.21.0)\n",
            "Collecting urllib3[secure,socks]~=1.26\n",
            "  Using cached urllib3-1.26.9-py2.py3-none-any.whl (138 kB)\n",
            "Requirement already satisfied: trio-websocket~=0.9 in /usr/local/lib/python3.7/dist-packages (from selenium) (0.9.2)\n",
            "Requirement already satisfied: idna in /usr/local/lib/python3.7/dist-packages (from trio~=0.17->selenium) (2.10)\n",
            "Requirement already satisfied: attrs>=19.2.0 in /usr/local/lib/python3.7/dist-packages (from trio~=0.17->selenium) (21.4.0)\n",
            "Requirement already satisfied: outcome in /usr/local/lib/python3.7/dist-packages (from trio~=0.17->selenium) (1.1.0)\n",
            "Requirement already satisfied: async-generator>=1.9 in /usr/local/lib/python3.7/dist-packages (from trio~=0.17->selenium) (1.10)\n",
            "Requirement already satisfied: sniffio in /usr/local/lib/python3.7/dist-packages (from trio~=0.17->selenium) (1.2.0)\n",
            "Requirement already satisfied: sortedcontainers in /usr/local/lib/python3.7/dist-packages (from trio~=0.17->selenium) (2.4.0)\n",
            "Requirement already satisfied: wsproto>=0.14 in /usr/local/lib/python3.7/dist-packages (from trio-websocket~=0.9->selenium) (1.1.0)\n",
            "Requirement already satisfied: certifi in /usr/local/lib/python3.7/dist-packages (from urllib3[secure,socks]~=1.26->selenium) (2022.5.18.1)\n",
            "Requirement already satisfied: cryptography>=1.3.4 in /usr/local/lib/python3.7/dist-packages (from urllib3[secure,socks]~=1.26->selenium) (37.0.2)\n",
            "Requirement already satisfied: pyOpenSSL>=0.14 in /usr/local/lib/python3.7/dist-packages (from urllib3[secure,socks]~=1.26->selenium) (22.0.0)\n",
            "Requirement already satisfied: PySocks!=1.5.7,<2.0,>=1.5.6 in /usr/local/lib/python3.7/dist-packages (from urllib3[secure,socks]~=1.26->selenium) (1.7.1)\n",
            "Requirement already satisfied: cffi>=1.12 in /usr/local/lib/python3.7/dist-packages (from cryptography>=1.3.4->urllib3[secure,socks]~=1.26->selenium) (1.15.0)\n",
            "Requirement already satisfied: pycparser in /usr/local/lib/python3.7/dist-packages (from cffi>=1.12->cryptography>=1.3.4->urllib3[secure,socks]~=1.26->selenium) (2.21)\n",
            "Requirement already satisfied: h11<1,>=0.9.0 in /usr/local/lib/python3.7/dist-packages (from wsproto>=0.14->trio-websocket~=0.9->selenium) (0.13.0)\n",
            "Requirement already satisfied: typing-extensions in /usr/local/lib/python3.7/dist-packages (from h11<1,>=0.9.0->wsproto>=0.14->trio-websocket~=0.9->selenium) (4.2.0)\n",
            "Installing collected packages: urllib3\n",
            "  Attempting uninstall: urllib3\n",
            "    Found existing installation: urllib3 1.25.11\n",
            "    Uninstalling urllib3-1.25.11:\n",
            "      Successfully uninstalled urllib3-1.25.11\n",
            "\u001b[31mERROR: pip's dependency resolver does not currently take into account all the packages that are installed. This behaviour is the source of the following dependency conflicts.\n",
            "google-colab 1.0.0 requires requests~=2.23.0, but you have requests 2.27.1 which is incompatible.\n",
            "datascience 0.10.6 requires folium==0.2.1, but you have folium 0.8.3 which is incompatible.\u001b[0m\n",
            "Successfully installed urllib3-1.26.9\n"
          ]
        },
        {
          "output_type": "display_data",
          "data": {
            "application/vnd.colab-display-data+json": {
              "pip_warning": {
                "packages": [
                  "urllib3"
                ]
              }
            }
          },
          "metadata": {}
        },
        {
          "output_type": "stream",
          "name": "stdout",
          "text": [
            "\r0% [Working]\r            \rHit:1 https://developer.download.nvidia.com/compute/cuda/repos/ubuntu1804/x86_64  InRelease\n",
            "\r0% [Connecting to archive.ubuntu.com] [Connecting to security.ubuntu.com] [Conn\r                                                                               \rGet:2 https://cloud.r-project.org/bin/linux/ubuntu bionic-cran40/ InRelease [3,626 B]\n",
            "\r0% [Connecting to archive.ubuntu.com (91.189.91.38)] [Connecting to security.ub\r                                                                               \rIgn:3 https://developer.download.nvidia.com/compute/machine-learning/repos/ubuntu1804/x86_64  InRelease\n",
            "Hit:4 https://developer.download.nvidia.com/compute/machine-learning/repos/ubuntu1804/x86_64  Release\n",
            "Hit:5 http://archive.ubuntu.com/ubuntu bionic InRelease\n",
            "Get:6 http://archive.ubuntu.com/ubuntu bionic-updates InRelease [88.7 kB]\n",
            "Get:7 http://security.ubuntu.com/ubuntu bionic-security InRelease [88.7 kB]\n",
            "Hit:8 http://ppa.launchpad.net/c2d4u.team/c2d4u4.0+/ubuntu bionic InRelease\n",
            "Get:9 http://archive.ubuntu.com/ubuntu bionic-backports InRelease [74.6 kB]\n",
            "Hit:10 http://ppa.launchpad.net/cran/libgit2/ubuntu bionic InRelease\n",
            "Hit:11 http://ppa.launchpad.net/deadsnakes/ppa/ubuntu bionic InRelease\n",
            "Hit:13 http://ppa.launchpad.net/graphics-drivers/ppa/ubuntu bionic InRelease\n",
            "Get:14 http://archive.ubuntu.com/ubuntu bionic-updates/universe amd64 Packages [2,290 kB]\n",
            "Get:15 http://archive.ubuntu.com/ubuntu bionic-updates/main amd64 Packages [3,262 kB]\n",
            "Fetched 5,808 kB in 4s (1,323 kB/s)\n",
            "Reading package lists... Done\n",
            "Reading package lists... Done\n",
            "Building dependency tree       \n",
            "Reading state information... Done\n",
            "chromium-chromedriver is already the newest version (101.0.4951.64-0ubuntu0.18.04.1).\n",
            "The following package was automatically installed and is no longer required:\n",
            "  libnvidia-common-460\n",
            "Use 'apt autoremove' to remove it.\n",
            "0 upgraded, 0 newly installed, 0 to remove and 87 not upgraded.\n",
            "cp: '/usr/lib/chromium-browser/chromedriver' and '/usr/bin/chromedriver' are the same file\n"
          ]
        }
      ],
      "source": [
        "!pip install html5print\n",
        "!pip install flair\n",
        "!pip install -U kaleido\n",
        "!pip install selenium\n",
        "!apt-get update\n",
        "!apt install chromium-chromedriver\n",
        "!cp /usr/lib/chromium-browser/chromedriver /usr/bin"
      ]
    },
    {
      "cell_type": "code",
      "source": [
        "import sys\n",
        "sys.path.insert(0,'/usr/lib/chromium-browser/chromedriver')"
      ],
      "metadata": {
        "id": "EVsrLBofCo08"
      },
      "execution_count": 7,
      "outputs": []
    },
    {
      "cell_type": "code",
      "source": [
        "from selenium import webdriver\n",
        "from bs4 import BeautifulSoup\n",
        "\n",
        "chrome_options = webdriver.ChromeOptions()\n",
        "chrome_options.add_argument('--headless')\n",
        "chrome_options.add_argument('--no-sandbox')\n",
        "chrome_options.add_argument('--disable-dev-shm-usage')\n",
        "wd = webdriver.Chrome('chromedriver',options=chrome_options)"
      ],
      "metadata": {
        "id": "-54Uz0LdCsIl"
      },
      "execution_count": 118,
      "outputs": []
    },
    {
      "cell_type": "code",
      "source": [
        "def get_info_from_div(div_soup):\n",
        "  article_info = {}\n",
        "\n",
        "  # 1. Get title\n",
        "  article_info[\"title\"] = div_soup.find('h3', class_=\"gc__title\").a.span.text.replace('\\xad', '')\n",
        "    \n",
        "  # 2. Get summery\n",
        "  article_info[\"excerpt\"] = div_soup.find('div', class_=\"gc__excerpt\").p.text.replace('\\xad', '')\n",
        "\n",
        "  # 3. Get image url\n",
        "  article_info[\"img\"] = \"https://www.aljazeera.com\" + div_soup.find('img')['src']\n",
        "\n",
        "  # 4. Get publish time\n",
        "  article_info[\"publish_date\"] = div_soup.find('div', class_=\"gc__date__date\").find_all('span')[-1].text.replace('\\xad', '')\n",
        "\n",
        "  # 5. Get article url\n",
        "  article_info[\"article\"] = \"https://www.aljazeera.com\" + div_soup.find('h3', class_=\"gc__title\").a['href']\n",
        "\n",
        "  return article_info\n",
        "\n",
        "wd.get(url)\n",
        "\n",
        "source = wd.page_source\n",
        "soup = BeautifulSoup(source, features='lxml')\n",
        "\n",
        "recent_ten_articles = []\n",
        "\n",
        "recent_four_articles = soup.find('ul', class_=\"featured-articles-list\")\n",
        "\n",
        "if recent_four_articles:\n",
        "  for recent_four_article_soup in recent_four_articles.find_all('article'):\n",
        "    recent_ten_articles.append(get_info_from_div(recent_four_article_soup))\n",
        "\n",
        "recent_articles = soup.find('section', id=\"news-feed-container\")\n",
        "if recent_articles:\n",
        "  for recent_article_soup in recent_articles.find_all('article'):\n",
        "    recent_ten_articles.append(get_info_from_div(recent_article_soup))\n"
      ],
      "metadata": {
        "id": "Fx_bYPBTFZqA"
      },
      "execution_count": 143,
      "outputs": []
    },
    {
      "cell_type": "code",
      "source": [
        "from flair.models import TextClassifier\n",
        "from flair.data import Sentence\n",
        "sia = TextClassifier.load('en-sentiment')\n",
        "def flair_prediction(x):\n",
        "    sentence = Sentence(x)\n",
        "    sia.predict(sentence)\n",
        "    score = sentence.labels[0]\n",
        "\n",
        "    print(score)\n",
        "    if \"POSITIVE\" in str(score):\n",
        "      score_string = str(score).split('POSITIVE')[-1].replace('(','').replace(')','')\n",
        "      print(score_string)\n",
        "      return \"pos\", float(score_string)\n",
        "    elif \"NEGATIVE\" in str(score):\n",
        "      score_string = str(score).split('NEGATIVE')[-1].replace('(','').replace(')','')\n",
        "      print(score_string)\n",
        "      return \"neg\", float(score_string)\n",
        "    else:\n",
        "        return \"neu\", 0"
      ],
      "metadata": {
        "colab": {
          "base_uri": "https://localhost:8080/"
        },
        "id": "K3ZzumyNiITv",
        "outputId": "fddbaa38-2ad7-410f-f439-d1f5006c9b7c"
      },
      "execution_count": 144,
      "outputs": [
        {
          "output_type": "stream",
          "name": "stdout",
          "text": [
            "2022-06-09 05:13:08,342 loading file /root/.flair/models/sentiment-en-mix-distillbert_4.pt\n"
          ]
        }
      ]
    },
    {
      "cell_type": "code",
      "source": [
        "from tqdm import tqdm\n",
        "\n",
        "final_article_results = []\n",
        "for recent_ten_article in tqdm(recent_ten_articles):\n",
        "  wd.get(recent_ten_article['article'])\n",
        "  article_soup = BeautifulSoup(wd.page_source, features='lxml') \n",
        "\n",
        "  article_content_soup = article_soup.find('div', class_=\"wysiwyg wysiwyg--all-content css-1ck9wyi\")\n",
        "  full_content = \"\"\n",
        "  if article_content_soup:\n",
        "    for paragraph in article_content_soup.findChildren('p',recursive=False):\n",
        "      full_content+=paragraph.text+'\\n'\n",
        "    recent_ten_article['full_content'] = full_content\n",
        "    recent_ten_article[\"sentiment\"], recent_ten_article[\"score\"]  = flair_prediction(recent_ten_article[\"full_content\"])\n",
        "\n",
        "     \n",
        "\n",
        "    final_article_results.append(recent_ten_article)\n",
        "  "
      ],
      "metadata": {
        "colab": {
          "base_uri": "https://localhost:8080/"
        },
        "id": "G0bQT3LtT-Oc",
        "outputId": "ead49287-6527-4d68-9f1f-b9f7d461e81d"
      },
      "execution_count": 145,
      "outputs": [
        {
          "output_type": "stream",
          "name": "stderr",
          "text": [
            "  7%|▋         | 1/14 [00:03<00:47,  3.64s/it]"
          ]
        },
        {
          "output_type": "stream",
          "name": "stdout",
          "text": [
            "Sentence: \"Heavy rains in South Africa have forced hundreds of people to flee their homes on the east coast , according to officials , only a month after the worst floods in living memory killed more than 400 . The floods over the weekend hit infrastructure , roads , bridges and damaged buildings , mainly in the port city of Durban , the capital of KwaZulu-Natal province and home to some 3.9 million people . “ Some areas are inaccessible and have become islands at this stage ,” KwaZulu-Natal Premier Sihle Zikalala said during a news conference on Sunday . No fatalities were immediately recorded , but Zikalala added : “ We are yet to receive a full comprehensive report on the impact of these latest heavy rains , but as reports come in a worrying picture is however emerging . ” In April , torrential rain led to floods , landslides and the death of 435 people in KwaZulu-Natal and authorities said survivors were left without drinking water for nearly two weeks . Repairs are still ongoing after the floods caused damage worth hundreds of millions of dollars . On Sunday , parts of the road near the Umdloti beach resort north of Durban had been washed away , leaving gaping holes and cars balanced on the edge , AFP news agency reported . “ The flooding started late yesterday [ Saturday ] afternoon but as a result of the collapse of this road we could n’t get out ,” one local resident , Kevin Govender , told AFP . They were only able to get out once the emergency services arrived on Sunday . Nearly 250 people were evacuated from the resort town overnight and rescue operations continued on Sunday , as the emergency services received more calls for help . Some homes have lost power . The water purification station for the eThekwini area close to Durban has also been damaged , said officials . The South African Weather Service put the alert level at the highest on Saturday . Officials called on residents to stay at home . Authorities in KwaZulu-Natal opened 82 reception centres while police , firefighters and rescue workers were ready to respond rapidly to emergencies . The army has also been called in for reinforcement and officials have evacuated elderly people in several villages . On Monday , the weather service said conditions had improved significantly but still they expect the rains to continue in parts of the province .\" → NEGATIVE (0.9898)\n",
            " 0.9898\n"
          ]
        },
        {
          "output_type": "stream",
          "name": "stderr",
          "text": [
            "\r 14%|█▍        | 2/14 [00:07<00:42,  3.52s/it]"
          ]
        },
        {
          "output_type": "stream",
          "name": "stdout",
          "text": [
            "Sentence: \"Tropical Cyclone Gombe has killed at least 53 people since it hit Mozambique a week ago , a sharp rise from earlier estimates . According to the National Institute of Disaster Management ( INGC ) on Thursday , another 80 people have been injured and 400,000 affected since the cyclone swept into northern and central areas of the country , flooding towns and destroying houses . The initial death toll in the southern African country was estimated at seven . Data showed Gombe had completely destroyed 45,000 homes and partially destroyed 30,000 . In the past few years , Southern Africa has suffered repeated devastating cyclones of the type that used to be relatively rare , and scientists believe climate change is fuelling their intensity via warming of the Indian Ocean . In January , Tropical Storm Ana killed at least 88 people across Southern and Eastern Africa .\" → NEGATIVE (0.996)\n",
            " 0.996\n"
          ]
        },
        {
          "output_type": "stream",
          "name": "stderr",
          "text": [
            "\r 21%|██▏       | 3/14 [00:09<00:32,  2.98s/it]"
          ]
        },
        {
          "output_type": "stream",
          "name": "stdout",
          "text": [
            "Sentence: \"Mozambique President Filipe Nyusi has appointed a new prime minister and filled several other posts , including the finance minister , as part of a cabinet reshuffle . A statement from the presidency on Thursday named Adriano Afonso Maleiane as the replacement for Carlos Agostinho do Rosário , who had been prime minister since 2015 . It also named Ernesto Max Tonela as the minister of economy and finance , and Carlos Zacarias , currently chairman of the National Petroleum Instituto ( INP ) responsible for licensing oil and gas projects , as mineral resources and energy minister . On Wednesday , Nyusi had fired six ministers , without giving a reason , in what was seen as a major cabinet reshuffle .\" → NEGATIVE (0.9038)\n",
            " 0.9038\n"
          ]
        },
        {
          "output_type": "stream",
          "name": "stderr",
          "text": [
            "\r 29%|██▊       | 4/14 [00:13<00:35,  3.57s/it]"
          ]
        },
        {
          "output_type": "stream",
          "name": "stdout",
          "text": [
            "Sentence: \"Lagos , Nigeria – On February 22 , German Chancellor Olaf Scholz announced during a news conference that the European superpower was halting approval of Russia-owned Nord Stream 2 after President Vladimir Putin officially sent troops into eastern Ukraine . Nord Stream 2 , an $ 11bn gas pipeline project owned by Moscow-backed energy company Gazprom , runs from western Siberia to Germany . The project was built to ensure a sustainable energy distribution across the European Union , especially as gas prices reached record highs in Europe – which gets more than a third of its natural gas from Russia . As the conflict continues in Ukraine , European gas prices have soared and there is the likelihood that Moscow could shut off supplies of gas , widely considered part of Putin ’s leverage against the West in his obsession with Ukraine . Before that , European countries will be pulling the stops to find contingency supply networks in the coming weeks . In fact , sources say the United States is already in talks with Qatar over supplying gas to the EU as a crucial substitute for Russia . However , during a forum of gas exporting countries held last week in Qatar , the bloc said it would be unable to provide a considerable amount of replacement gas to Europe in the event of sanctions against Russia . They stressed the need for significant investment in gas infrastructure , as well as long-term contracts , to guarantee a large supply to Europe . This has led to an emerging debate about whether African countries , which have some of the world ’s deepest gas reserves , can step in to fill the gap – a demand of 150-190 billion cubic metres annually that Russia has usually supplied to Europe . Recently , Tanzanian President Samia Suluhu Hassan said the Russian invasion of Ukraine could prove to be an opportunity for gas sales as the East African country makes efforts to secure a new energy market outside Africa . “ Whether Africa or Europe or America , we are looking for markets ,” said Hassan . “ And fortunately , we are working with companies from Europe . ” Tanzania , which has the sixth-largest gas reserves in Africa – an estimated 57 trillion cubic feet ( 1.6 billion cubic metres ) of gas reserves – says it has been working with Shell to utilise its vast offshore gas resources and export to Europe and elsewhere . Africa ’s largest gas producer has similar plans too . Timipre Sylva , Nigeria ’s junior petroleum minister , told the press at the gas exporting countries’ forum in Doha , “ We want to build a pipeline , a trans-Sahara pipeline , that is going to take our gas to Algeria , then to Europe . ” Nigeria ’s comments are buoyed by the recent signing of an MoU with Algeria and the Niger Republic and the ongoing construction of the Trans-Saharan Gas Pipeline , a 614km ( 381.5 miles ) long natural gas pipeline beginning in northern Nigeria . There is no official word on when the pipeline , first mooted in the 1970s , will be completed but it is slated to run through northern Nigeria into Niger and Algeria , connecting to Europe eventually . Still there are concerns about whether African countries can become a proper stopgap solution for natural gas as Europe tackles Russia ’s military onslaught against one of its own – or long-term suppliers . Experts say a historic lack of investment in gas infrastructure has hampered the energy industry in sub-Saharan Africa , unlike in Northern Africa . For instance , the Maghreb-Europe Gas Pipeline in Algeria – Africa ’s largest natural gas exporter – conveys natural gas through Morocco to Spain and Portugal , and the Medgaz pipeline links Algeria directly to Spain . Experts estimated that Algeria exported 9 billion cubic feet ( 255 million cubic metres ) of gas to Spain in 2020 and up to 17 billion cubic feet ( 481 million cubic metres ) annually before that . The drop was due to gas production dipping in a breakdown in relations with Morocco ; last October , Algeria announced that it would immediately begin exporting gas directly to Spain . “ It is important to note that [ North ] Africa already has an established gas export market with Europe [ before the Ukrainian crisis ],” said Linda Mabhena-Olagunju , oil and gas lawyer and CEO of Johannesburg-based independent power producer DLO Energy Resource Group . “ The Medgaz pipeline capacity enhancements [ in Algeria ] are also expected to increase exports to Europe . ” But many African countries with massive gas reserves have also struggled to attract investment to build gas infrastructure projects to supply the European market . Angola , which has 13.5 trillion cubic feet ( 382 billion cubic metres ) of proven gas reserves , has experienced a sharp decline in oil and gas production in the last five years due to a combination of technical and operational problems , as well as a lack of upstream investment and incentives . In 2020 , the Muhammadu Buhari administration announced “ The Decade of Gas ” , a Nigerian initiative to prioritise the gas industry and take advantage of a global transition to cleaner fuels . As part of that drive , it has commenced construction of the 614km-long , $ 2.5bn Ajaokuta-Kaduna-Kano Natural Gas Pipeline . Most of the funding comes as a loan from Chinese banks . Still , like in many other African countries , significant investments are needed to build trans-regional and intercontinental pipelines , in order to open up access to Europe . And they all need loads of capital . Nigeria is hoping that its new industry legislation – signed last August – can provide a new framework to cut down on waste and corruption in the oil sector , reshape host community relations and ultimately , investment . “ Nigeria is not presently a top investment destination for the oil and gas industry ,” said Joe Nwakwue , former chairman of the Society of Petroleum Engineers in Nigeria and ex-adviser to the junior petroleum minister . “ This was why we pushed for a competitive fiscal arrangement in the bill . ” “ Additionally , to address the infrastructure challenge , we need to open up the sector to private capital ,” he said . “ Our current oligopoly would not suffice as the Nigerian National Petroleum Corporation lacks the capital to build our required infrastructure . ” Using vessels for direct transport of liquefied natural gas across the seas could also put sub-Saharan African countries in prime position to become competitive producers and exporters , Mabhena-Olagunju told Al Jazeera . There are also other existential issues that experts say African countries have to fix first to be a ready alternative for Europe in situations of urgency . Mozambique holds roughly 100 trillion cubic feet ( 2.8 trillion cubic metres ) of proven natural gas reserves , accounting for approximately 1 percent of the world ’s total reserves . But an ongoing armed uprising in the northern Mozambican province of Cabo Delgado , a gas-rich area that borders Tanzania , has hampered activity on a planned $ 50bn project . Elsewhere , a wave of security threats from armed groups has affected oil and gas exploration in Nigeria ’s oil-rich Niger Delta . “ The key factor that remains a challenge for Africa as a reliable LNG producer and exporter revolves around security of supply ,” said Mabhena-Olagunju . “ Whilst the LNG discoveries in Mozambique are a great find , it is also important to recognise that insecurity leads to delays and instability of supply . ” Can African countries wing it ?\" → NEGATIVE (0.9908)\n",
            " 0.9908\n"
          ]
        },
        {
          "output_type": "stream",
          "name": "stderr",
          "text": [
            "\r 36%|███▌      | 5/14 [00:17<00:32,  3.61s/it]"
          ]
        },
        {
          "output_type": "stream",
          "name": "stdout",
          "text": [
            "Sentence: \"The death toll from a storm that struck three southern African countries rose to 70 on Thursday as emergency teams battled to repair damaged infrastructure and help tens of thousands of victims . Packing torrential rains , Tropical Storm Ana made landfall Monday in Madagascar before ploughing into Mozambique and Malawi . Rescue workers and authorities across the three countries were still assessing the full extent of the damage . Madagascar has reported 41 dead , with 18 others killed in Mozambique and 11 in Malawi . Remnants of the storm have passed over Zimbabwe , but no deaths have been reported there . In the three hardest-hit countries , tens of thousands of homes were damaged . Some collapsed under the heavy rain , trapping victims in the rubble . Bridges were washed away by swollen rivers , while livestock drowned and submerged fields , destroying the livelihoods of rural families . In Madagascar , 110,000 had to flee their homes . In the capital Antananarivo , schools and gyms were turned into emergency shelters . “ We only brought our most important possessions ,” Berthine Razafiarisoa , who sheltered in a gym with his family of 10 , told AFP news agency . In northern and central Mozambique , Ana destroyed 10,000 homes , dozens of schools and hospitals , and downed power lines . Mozambique ’s weather service expects another storm to form over the Indian Ocean in the coming days . Up to six tropical cyclones are expected before the rainy season ends in March . In neighbouring Malawi , the government declared a state of natural disaster . Most of the country lost electricity early in the week , after floodwaters hit generating stations . Power was restored by Thursday in parts of the country , but parts of the electric grid were destroyed . “ Our priority now is restoring power to health establishments , water treatment distribution systems , and schools ,” the national power utility said in a statement . Southern Africa , and especially Mozambique , has suffered repeated destructive storms in recent years .\" → NEGATIVE (0.9945)\n",
            " 0.9945\n"
          ]
        },
        {
          "output_type": "stream",
          "name": "stderr",
          "text": [
            "\r 43%|████▎     | 6/14 [00:21<00:30,  3.86s/it]"
          ]
        },
        {
          "output_type": "stream",
          "name": "stdout",
          "text": [
            "Sentence: \"Southern African regional bloc SADC at a summit has extended the mandate of a troop deployment in Mozambique to help the country fight an armed uprising , a communique from the summit showed . “ Summit noted the good progress made since the deployment of the SADC Mission in Mozambique and extended its mandate ,” the communique on Wednesday read , without saying how long the extension was for . SADC nations and Rwanda resolved last June to send more than 3,000 troops to help Mozambique respond to an armed uprising in the northern province of Cabo Delgado . On Tuesday , South African President Cyril Ramaphosa , who is chairperson of the SADC Organ on Politics , Defence and Security Cooperation , said that the deployment of the SADC Mission in Mozambique ( SAMIM ) was showing some results . “ Since the deployment … significant progress has been made ,” said Ramaphosa in opening remarks at the two-day talks in the Malawian capital , Lilongwe . “ The security situation in Cabo Delgado is improving , which has allowed for some internally displaced persons to return to their homes and resume their normal lives ,” he said . Operating alongside Mozambican troops , regional forces have helped to create “ safe passage ” for bringing humanitarian aid into violence-hit areas , he said . The mission was initially deployed in July , but its mandate was extended indefinitely in October . Cabo Delgado , a gas-rich province bordering Tanzania , has been hit by attacks since 2017 . At least 3,500 people have died and approximately 820,000 have fled their homes . Atrocities have included massacres , beheadings , the torching of homes , and mass abductions – particularly of girls .\" → POSITIVE (0.6893)\n",
            " 0.6893\n"
          ]
        },
        {
          "output_type": "stream",
          "name": "stderr",
          "text": [
            " 57%|█████▋    | 8/14 [00:32<00:28,  4.75s/it]"
          ]
        },
        {
          "output_type": "stream",
          "name": "stdout",
          "text": [
            "Sentence: \"Rwandan President Paul Kagame has arrived in Mozambique , where he has deployed some 1,000 soldiers to help local security forces tackle fighters wreaking havoc in the country ’s north . Attacks by an armed group known locally as al-Shabab , whose origins , analysts say , are steeped in local political , religious and economic discontent , have steadily increased in the Cabo Delgado province since October 2017 . The violence , including the raiding of villages and towns , has killed more than 3,306 people – half of them civilians – and displaced at least 800,000 from their homes over the past four years . Rwanda in July was the first of several African countries to provide reinforcements to Mozambique ’s army , overwhelmed by the worsening conflict in the gas-rich province . A contingent of forces from the regional bloc , the Southern African Development Community ( SADC ) , is also patrolling northern Cabo Delgado . Kagame landed in the provincial capital , Pemba , on Friday morning and was received by his Mozambican counterpart , Filipe Nyusi . The two leaders met and addressed Rwandan troops deployed to the province . In a joint news conference , Kagame said Rwandan troops would help secure and rebuild the areas destroyed by the violence . “ The work has n’t been easy ,” Kagame told his soldiers , according to posts on the Rwandan presidency ’s Twitter account . “ You have done great work alongside Mozambican troops . You sacrificed and endured days and nights in the scorching sun , heavy rains ,” he said . “ The work done so far cannot stop here . We now have another task which is to continue rebuilding and protecting this country . ” For his part , Nyusi called Rwandan troops “ real heroes ” , adding that Mozambique ’s “ soldiers are forever indebted to you and we look forward to continuing rebuilding the lives of our citizens for the better ” . Foreign forces have helped Mozambique regain ground in Cabo Delago since fighters linked to ISIL ( ISIS ) launched a coordinated assault on the port town of Palma in March , offsetting multibillion-dollar gas projects and raising international concern . Some local officials have encouraged civilians to return , according to media reports , and the Rwandan military ’s spokesman said 25,000 people had been brought home . “ It is very safe for them to go back ,” Ronald Rwivanga told Reuters news agency on Thursday . But United Nations officials are not so sure . A document compiled in September for UN agencies and other aid groups , seen by Reuters , said it was not clear whether the fighters’ capabilities had been much reduced . “ Fighting continues in certain locations and civilian authorities have not been re-established ,” it added . Al Jazeera ’s Malcolm Webb , reporting from an abandoned town in Cabo Delgado , said the remains of what the fighters had left behind were still visible . “ A lot of the buildings have been torched , goods from the shops have been looted , cars have been set on fire as well ,” he added . “ Civilians in this area really fear the fighters from this armed group . They are notorious for beheadings , for abducting people and all of the villages that we passed along the road are still completely deserted . ” Rwivanga said the Rwandans had been moving civilians back into the area they control near a $ 20bn liquefied natural gas ( LNG ) project run by oil major TotalEnergies , which was forced to a halt by the Palma attack . Yet security analysts say the Mozambican military deficiencies that allowed the armed campaign to take hold in the north – including soldiers that are ill-equipped , undisciplined and poorly paid – will not be easily reversed . Even with other forces there , they say , security is uncertain outside of small , heavily guarded areas . Mozambican and Rwandan forces notched up a major victory in August , when they drove the fighters out of their de facto headquarters in the port city of Mocimboa da Praia . But violence has continued . Local people and security forces have recently reported a string of attacks in Quissanga district , south of Mocimba da Praia , where fighters are believed to have fallen back after the town was retaken . The latest occurred on Thursday evening in the village of Lindi . “ Two people were killed and another two people were injured ,” an unnamed police source was quoted as saying by AFP news agency on Friday , adding that fighters had captured several women and girls . Fighters also ambushed two buses transporting soldiers later that night , causing at least one death , a traffic police officer told AFP . The attack took place on a main road that had been closed for two years due to similar incidents , and only recently reopened following the arrival of foreign troops . In total , at least 10 people have been killed across several villages in Quissanga over the past week , another police officer said . Some of the victims were reportedly beheaded .\" → NEGATIVE (0.9069)\n",
            " 0.9069\n"
          ]
        },
        {
          "output_type": "stream",
          "name": "stderr",
          "text": [
            "\r 64%|██████▍   | 9/14 [00:36<00:23,  4.60s/it]"
          ]
        },
        {
          "output_type": "stream",
          "name": "stdout",
          "text": [
            "Sentence: \"Rwandan forces deployed last month to help Mozambique ’s army battle rebels said on Sunday they have recaptured control of the key northern port of Mocimboa da Praia from the armed group . “ The port city of Mocimboa da Praia , a major stronghold of the insurgency for more than two years has been captured by Rwandan and Mozambican security forces ,” the Rwanda Defence Forces said in a tweet . Forces’ spokesman Colonel Ronald Rwivanga confirmed this to the AFP news agency , saying “ yes [ Mocimboa da Praia ] has fallen ” . The port town , from where the first rebel attacks were staged in October 2017 , has since last year become the de facto headquarters of a rebel armed group , locally referred to as al-Shabab . Mocimboa da Praia “ was the last stronghold of the insurgents , marking the end of the first phase of counter-insurgency operations which is dislodging insurgents from the stronghold ” , Rwivanga said in a text message . Rwanda sent in 1,000 soldiers last month to shore up Mozambican military forces that have been struggling to regain control over the northern Cabo Delgado province , which is home to one of Africa ’s biggest liquefied natural gas projects . The forces last week claimed their first success since deploying , saying they had helped the Mozambique army regain control of Awasse – a small but also strategic settlement near Mocimboa da Praia .\" → NEGATIVE (0.7817)\n",
            " 0.7817\n"
          ]
        },
        {
          "output_type": "stream",
          "name": "stderr",
          "text": [
            "\r 71%|███████▏  | 10/14 [00:41<00:18,  4.63s/it]"
          ]
        },
        {
          "output_type": "stream",
          "name": "stdout",
          "text": [
            "Sentence: \"Rwanda has started deploying 1,000-strong forces to Mozambique to help it combat worsening violence in the gas-rich northern Cabo Delgado province . The announcement came on Friday after the 16-member Southern African Development Community ( SADC ) approved last month the deployment of joint forces to help Mozambique respond to the nearly four-year-old conflict , which has killed some 3,000 people and displaced almost 800,000 , half of whom are children . Soldiers from Rwanda , which is not a member of SADC , would fight alongside Mozambique ’s forces and SADC troops , the Rwandan government said in a statement . “ The Rwandan contingent will support efforts to restore Mozambican state authority by conducting combat and security operations , as well as stabilisation and security-sector reform ,” it added . Rwandan defence forces spokesman Ronald Rwivanga told Reuters news agency the new forces would have deployed in full by Saturday . He said the Rwandan contingent was made up of members of the police force and troops trained “ to deal with terrorism and security-related issues ” in Cabo Delgado . Alexandre Raymakers , Africa analyst at the United Kingdom-based global risk consultancy Verisk Maplecroft , said he believes the Rwandan contingent could be used to secure key liquefied natural gas ( LNG ) sites in an effort to lure back international investors . “ The Rwandan security forces have developed a reputation for being a highly capable fighting force ,” he said . But , he added , “ The presence of multiple military missions , in the form of a potential Rwandan contingent and the SADC , will likely lead to conflicting priorities and friction at the military command level , hindering the overall . ” Attacks by an armed group known locally as al-Shabab , whose origins , analysts say , are steeped in local political , religious and economic discontent , have steadily increased in the Cabo Delgado province since October 2017 . The sophistication of the attacks has increased , too . The fighters linked to ISIL ( ISIS ) have ransacked towns and gained control of key roadways , destroying infrastructure and beheading civilians . In some cases , they have forced locals into their ranks or held them as sex slaves . Since August 2020 , the fighters have been in control of the key port town of Mocimboa da Praia , while in March , they launched a coordinated assault on Palma town , killing dozens and displacing tens of thousands , while also forcing the French energy firm Total to suspend its $ 20bn LNG project . The government has deployed thousands of soldiers to Cabo Delgado to combat the fighters , but analysts have long cautioned that Mozambique ’s army has historically been weak , poorly trained and underequipped . The World Food Programme has warned of a growing hunger crisis as nearly one million people need food aid .\" → NEGATIVE (0.9964)\n",
            " 0.9964\n"
          ]
        },
        {
          "output_type": "stream",
          "name": "stderr",
          "text": [
            "\r 79%|███████▊  | 11/14 [00:47<00:15,  5.01s/it]"
          ]
        },
        {
          "output_type": "stream",
          "name": "stdout",
          "text": [
            "Sentence: \"The Southern African Development Community ( SADC ) has said it agreed to deploy troops to Mozambique to help it tackle escalating violence in the country ’s north – but offered little specific operational details . Nearly 3,000 people have been killed and almost 800,000 – half of whom are children – have been forced from their homes in gas-rich Cabo Delgado province since the conflict began in 2017 . On Wednesday , SADC Executive Secretary Stergomena Tax said at the end of a one-day summit in Maputo the 16-member bloc of southern African countries had “ approved ” the deployment of a “ Standby Force in support of Mozambique to combat terrorism and acts of violent extremism in Cabo Delgado ” . The standby force is part of a regional defence pact that allows military intervention to prevent the spread of conflict . The communique after the meeting of the bloc ’s leaders provided no further details on how many troops would be involved , when they would be deployed or what their role would be , adding only that humanitarian aid must be channelled to those most in need . The decision brings to an end months of deliberation and disagreement among the bloc about what is needed to stem the violence . While some members , like South Africa , have pushed for military action , others were reportedly more reticent . Mozambique President Filipe Nyusi himself has historically been resistant to foreign boots on the ground . Attacks by an armed group known locally as al-Shabab , whose origins , analysts say , are steeped in local political , religious and economic discontent , have steadily increased in the Cabo Delgado province since October 2017 . The sophistication of the attacks has increased , too . The ISIL-linked fighters have ransacked towns and gained control of key roadways , destroying infrastructure and beheading civilians . In some cases , they have forced locals into their ranks or held them as sex slaves . Since August 2020 , the fighters have been in control of the key port town of Mocimboa da Praia , while in March , they launched a coordinated assault on Palma town , killing dozens and forcing more than 67,000 to abandon their homes . The government has deployed thousands of soldiers to Cabo Delgado to combat the fighters , but analysts have long cautioned that Mozambique ’s army has historically been weak , poorly trained and underequipped . Al Jazeera ’s Haru Mutasa , who has covered Mozambique ’s security crisis extensively , said the countries that will be involved will most likely be those with the capability to do so , such as regional economic powerhouse South Africa or countries such as Zimbabwe , Namibia and Angola that have participated in other deployments in the past . “ What we know from this proposal that was suggested is whatever troops go in , they will help Mozambique [ by ] perhaps patrolling the Indian Ocean coastline and the border areas with Tanzania – where some of these insurgents are thought to be coming from ,” Mutasa said , speaking from Zimbabwe ’s capital , Harare . The main question is whether these countries will have enough funds to go through the deployment to Mozambique , she noted . “ In theory , every country in the SADC bloc needs to contribute to the standby force but economically many countries are having a hard time because of COVID-19 pandemic ,” she said . “ The question now is when will that deployment take place , who the troops are going to be , and what exactly are they going to be involved in . ”\" → NEGATIVE (0.9748)\n",
            " 0.9748\n"
          ]
        },
        {
          "output_type": "stream",
          "name": "stderr",
          "text": [
            "\r 86%|████████▌ | 12/14 [00:51<00:09,  4.71s/it]"
          ]
        },
        {
          "output_type": "stream",
          "name": "stdout",
          "text": [
            "Sentence: \"As we entered 2021 , there were 82.4 million people around the world displaced by conflict or persecution . Thirty million of those are refugees , the rest are displaced within their own country ( 48 million ) or asylum-seekers ( 4.1 million ) , according to UNHCR ’s latest report . Nearly half of these forcibly displaced people are children . 55 percent of refugees come from three countries : Syria , Palestine and Venezuela . During the COVID-19 pandemic , “ everything else has stopped , including the economies , but wars and conflict and violence and discrimination and persecution , all the factors that pushed these people to flee , have continued ,” UNHCR chief Filippo Grandi said . In 2020 , 1.27 million people from 64 countries became refugees . The infographic below shows the desperate journeys these people took despite the additional challenges brought on by COVID-19 . Africa accounts for more than one-third of the world ’s displaced people . By the end of 2020 , at least 30.6 million people were displaced across the continent . In 2020 , nearly 60,000 refugees fled from Ethiopia to neighbouring countries following violence in several parts of the East African country . In November 2020 , fighting broke out in Ethiopia ’s northern Tigray region displacing more than one million people according to the International Organization for Migration . In the Middle East , Syrian refugees continued to flee their country ’s 10-year-long war , with nearly 134,000 recorded to have left in 2020 . Half of them ( 65,000 ) fled to neighbouring Turkey , which now hosts the world ’s largest refugee community – 3.7 million people . That same year , nearly a quarter of Syrian refugees ( 32,500 ) reached Germany . In Latin America , nearly 400,000 refugees fled Venezuela following a political and economic crisis in the country . Of these , 139,000 were recorded fleeing to Peru , 80,000 to the Dominican Republic and 60,000 to Brazil . In Asia , the UN recorded at least 29,000 refugees from Myanmar . Nearly all of these refugees arrived in neighbouring India ( 17,000 ) and Bangladesh ( 12,000 ) . In Europe , at least 89,000 refugees fled from Azerbaijan to Armenia following 44 days of fighting that broke out between Armenian and Azerbaijani forces in the disputed territory of Nagorno-Karabakh . Across the Atlantic , during 2020 , the United States received 8,500 refugees from 20 countries . Nearly half of these refugees came from only three countries : Venezuela ( 1,600 ) , El Salvador ( 1,200 ) , and Guatemala ( 1,100 ) . This is significantly lower than in 2019 when the country received 32,000 refugees . Canada received 7,500 refugees from 21 countries in 2020 . The top countries of origin were Nigeria ( 1,400 ) , Iran ( 1,200 ) and Hungary ( 629 ) . On the other side of the globe , Australia received only 956 refugees in 2020 – mostly from Iran . Refugee camps are intended as temporary safe haven to meet refugees’ basic needs . However , many people end up living in these camps for decades . According to the United Nations High Commissioner for Refugees ( UNHCR ) in Kenya : “ Many displaced persons spend more than 16 years living as refugees in temporary shelter . ” The infographic below highlights some of the largest refugee camps around the world . The Kutupalong camp in Cox ’s Bazar , Bangladesh , is the world ’s largest refugee camp . It was set up informally in the early 1990s after Myanmar ’s minority Rohingya began to flee several crackdowns on them in Rakhine state . In 2017 , brutal crackdowns tore through the state and the camp had to be significantly expanded , reaching a capacity of approximately 800,000 people . On March 22 , 2021 , a huge fire engulfed a neighbouring refugee camp in Cox ’s Bazar . Fifteen people were killed and tens of thousands were left without their homes and belongings . The Dadaab refugee complex in Kenya comprises three large refugee camps – Hagadera , Dagahaley and Ifo – and houses more than 200,000 refugees near the border with Somalia . Dadaab was established in 1991 following the civil war in Somalia and expanded in 2011 following widespread drought and famine . The Kakuma refugee camp in northwest Kenya is home to at least 150,000 refugees mostly from South Sudan and Somalia . The camp was established in 1992 following the arrival of thousands of Sudanese children who were fleeing the civil war . In March 2021 , Kenya ’s government announced that it would close the Dadaab and Kakuma refugee camps by June 30 , 2022 . The Zaatari refugee camp was established in Jordan in 2012 to house Syrian refugees . Today , it is the largest Syrian refugee camp in the world . The world ’s first COVID-19 vaccination centre in a refugee camp opened there in February 2021 . In 1951 , the UN established the 1951 Refugee Convention , set up to protect the rights of refugees in Europe in the aftermath of World War II . In 1967 , the convention was expanded to address displacement across the rest of the world . The infographic below highlights 70 years of refugee journeys , from 1951 to 2020 . The number of refugees has more than doubled over the past decade from 15 million in 2011 to 30 million in 2020 . The plight of Palestinian refugees is the longest unresolved refugee problem in the world . On May 14 , 1948 , the British Mandate for Palestine expired , triggering the first Arab-Israeli war . Zionist militias expelled at least 750,000 Palestinians . According to figures compiled by UNHCR , by 1952 the number of Palestinian refugees was 867,000 . Today , that figure is 5.7 million . Afghanistan has been ravaged by four decades of war . From 1979 to 1989 , the country was a stage for one of the Cold War ’s last battles as Soviet troops fought a bloody guerrilla war against the Afghan mujahideen . For the next decade , the county struggled on . Just 12 years after the Soviet withdrawal , Afghanistan would find itself invaded again , this time by the US . The highest number of Afghan refugees was recorded in 1990 where 6.3 million refugees were reported . At 6.7 million people , Syrians are the biggest population of refugees today followed by Palestinians ( 5.7 million ) and Venezuelans ( 4 million ) . As of 2020 , 88 percent of the world ’s refugees originated from only 12 countries . On the receiving end , 65 percent of the world ’s refugees are hosted by only 16 countries . Turkey hosts the most refugees ( 3.7 million ) followed by Jordan ( 3 million ) and Colombia ( 1.7 million ) . In Europe , Germany is home to about 1.2 million refugees , the highest in the continent . According to UNHCR , developing countries host 86 percent of the world ’s refugees .\" → NEGATIVE (0.9716)\n",
            " 0.9716\n"
          ]
        },
        {
          "output_type": "stream",
          "name": "stderr",
          "text": [
            "\r 93%|█████████▎| 13/14 [00:57<00:05,  5.03s/it]"
          ]
        },
        {
          "output_type": "stream",
          "name": "stdout",
          "text": [
            "Sentence: \"Fighters in conflict-hit northern Mozambique abducted dozens of children during raids in 2020 , according to a new analysis by Save the Children . The charity said in a report on Wednesday the “ abduction of children has become a new and alarmingly regular tactic by armed groups ” in Cabo Delgado province , where worsening fighting over the past three-and-a-half years has killed nearly 3,000 people and displaced more than 700,000 , half of whom are children . Save the Children said “ at least 51 children , most of them girls ” were seized by non-state armed groups in the region last year , adding that the numbers involved were likely “ far higher ” than its estimates , which were based on data collected by the Armed Conflict Location & Event Data Project and reflected only reported cases . It warned that the victims are at risk of sexual violence , early marriage and being used as fighters in the conflict . “ Being abducted , witnessing abductions , experiencing attacks , being forced to flee from armed groups – these are extremely traumatising events for young children and adolescents ,” said Chance Briggs , the Mozambique country director for Save the Children . Attacks by an armed group known locally as al-Shabab , whose origins , analysts say , are steeped in local political , religious and economic discontent , have steadily increased in the Cabo Delgado province since October 2017 . The sophistication of the attacks has increased , too . The fighters linked to ISIL ( ISIS ) have ransacked towns and gained control of key roadways , destroying infrastructure and beheading civilians . In some cases , they have forced locals into their ranks or held them as sex slaves . Since August 2020 , the fighters have been in control of the key port town of Mocimboa da Praia , while in March , they launched a coordinated assault on Palma town , killing dozens and forcing more than 67,000 to abandon their homes . A video by the group distributed in August last year – filmed in either Mozambique or the Democratic Republic of the Congo ( DRC ) , according to the US-based SITE Intelligence Group – showed three gun-toting children flanked by adults in front of an ISIL banner . “ Abducting a child constitutes one of the six grave violations against children in times of conflict , as defined by the United Nations . It is against international humanitarian law and can be a first step towards war crimes such as forced child conscription or sexual violence against children ,” Briggs said . “ Every day spent by abducted children outside their community is one too many , and the risks of abuse , early marriage and pregnancy increase the more time goes by . ” Save the Children called for the immediate release of all abducted children and for the perpetrators to be held to account . It said children were sometimes targeted for abduction in large groups , citing one attack where 21 people were abducted in a group , including six children . “ In that same incident , at least seven fishermen were beheaded ,” it said . In another attack in June 2020 , 10 girls were taken while drawing water from a well , it added . The charity highlighted the recent abduction of a 14-year-old girl following the March 24 attack on Palma . She and her family had in August 2020 fled their fishing village to seek shelter in the town . But seven months later , “ armed men entered Palma and forced the family to flee again . On the way to seek safety , the family was abducted by armed men . They all escaped except for their eldest daughter ,” it said , citing the teenager ’s father . Meanwhile , the International Committee of the Red Cross ( ICRC ) said it had registered more than 2,600 appeals in Mozambique between September 2020 and April 2021 from people who lost track of family members , most of whom are young adults and children . “ There is a very high number of unaccompanied children [ who are ] extremely vulnerable to all kinds of abuses and exploitation ,” said James Matthews , deputy head of the ICRC ’s mission in Mozambique ’s capital , Maputo .\" → NEGATIVE (0.9977)\n",
            " 0.9977\n"
          ]
        },
        {
          "output_type": "stream",
          "name": "stderr",
          "text": [
            "100%|██████████| 14/14 [01:02<00:00,  4.47s/it]"
          ]
        },
        {
          "output_type": "stream",
          "name": "stdout",
          "text": [
            "Sentence: \"White contractors were prioritised for evacuation ahead of Black locals during a rescue operation following an attack in March by an armed group known locally as al-Shabab on the Mozambican town of Palma , according to Amnesty International . In a report compiled from interviews with 11 Black survivors , Amnesty on Thursday charged that even dogs were pulled to safety before Black people by a helicopter that airlifted civilians from a hotel where they had sought refuge . “ White contractors [ were ] airlifted to safety before local Black people ,” said Amnesty , adding the hotel manager took his two German Shepherd dogs on the rescue helicopter , leaving people behind . Dyck Advisory Group ( DAG ) , a South Africa private company hired to help the Mozambique government fight the armed group and which was involved in the rescue operation , rejected the allegations . “ We rescued 24 people from the Amarula Lodge on the 25 March 2021 this consisted of 6 white persons and 18 Black persons of differing nationalities ,” the company said in a statement . “ The DAG team did not choose who would or would not be evacuated , they secured the landing site and loaded the people that were sent to them for evacuation by the lodge manager ,” it added . Some 200 people , mainly civil servants and foreigners working on a nearby gas project , sheltered in the Amarula Palma Hotel during the attack on Palma that began on March 24 . Amnesty said there were about 20 white workers among the group holed up in the beachfront hotel . “ While the white contractors were prioritised to be airlifted to safety , the Black nationals were left to fend for themselves . After the majority of the white contractors and a few well-off Black nationals – among them the Administrator for Palma – were rescued , those left behind attempted to flee by ground convoy ” but were ambushed by al-Shabab , Amnesty said . Deprose Muchena , the rights watchdog ’s regional director for east and southern Africa , said “ these are alarming allegations that the rescue plan was racially segregated . ” “ Abandoning people during an armed assault simply because of the colour of their skin is racism , and violates the obligation to protect civilians ,” he said , adding that for the hotel manager to “ choose to rescue his dogs instead of people is also extremely shocking ” . One survivor told Amnesty that “ we did n’t want all white people to be rescued , because we knew that if all the whites left , we would be left there to die . We heard them talking about the plan to take all the whites and leave ” the Black people . But a white survivor , South African Wesley Nel , whose brother died in the attack , denied the discrimination claims . “ I was there . We all were abandoned black and white ,” tweeted Nel , whose brother Adrian Nel was killed during a deadly ambush of a convoy of cars trying to flee from the hotel . “ But it was us ‘ white’ people who saved 150 locals by driving us all out of there ,” he wrote on Twitter following the publication of the report . Several witnesses also told Amnesty the hotel manager took advantage of the chaotic situation to take his two German Shepherd dogs to safety via helicopter , leaving people behind . The helicopters could only transport six people at a time , and made a total of four trips , the rights group said . “ If the dogs had n’t gone , about two or three more people could have gone on the helicopter ,” one survivor said . “ That dismayed people because some women did n’t get in the helicopter because of the dogs . ” Twelve decapitated bodies were found strewn in front of the hotel days after the attack , according to the army and private security sources . The attack on Palma left dozens of Mozambicans and foreigners dead , according to the government , and displaced tens of thousands . It marked a major intensification in a conflict that has wreaked havoc across Cabo Delgado province for more than three years .\" → NEGATIVE (0.9997)\n",
            " 0.9997\n"
          ]
        },
        {
          "output_type": "stream",
          "name": "stderr",
          "text": [
            "\n"
          ]
        }
      ]
    },
    {
      "cell_type": "code",
      "source": [
        "import json\n",
        "with open('data.json', 'w') as f:\n",
        "    json.dump(final_article_results, f, ensure_ascii=False)\n",
        "\n",
        "with open('data.json', 'r') as f:\n",
        "    data_from_json = json.load(f)"
      ],
      "metadata": {
        "id": "CfezWudk2SDl"
      },
      "execution_count": 152,
      "outputs": []
    },
    {
      "cell_type": "code",
      "source": [
        "score_list = []\n",
        "date_list = []\n",
        "for article in data_from_json:\n",
        "  print(article['article'])\n",
        "  print(article[\"title\"])\n",
        "  print(article[\"sentiment\"], article[\"score\"])\n",
        "  print(article['publish_date'])\n",
        "  print()\n",
        "  if article[\"sentiment\"] == \"neg\":\n",
        "    score_list.append(0-article[\"score\"])\n",
        "  else:\n",
        "    score_list.append(article[\"score\"])\n",
        "  date_list.append(article['publish_date'])"
      ],
      "metadata": {
        "colab": {
          "base_uri": "https://localhost:8080/"
        },
        "id": "5EWo0mx9ry-S",
        "outputId": "72c82fd1-38ef-4927-f333-9d544c02f30f"
      },
      "execution_count": 164,
      "outputs": [
        {
          "output_type": "stream",
          "name": "stdout",
          "text": [
            "https://www.aljazeera.com/news/2022/5/23/floods-hit-south-africas-kwazulu-natal-province-again\n",
            "Floods hit South Africa’s KwaZulu-Natal province again\n",
            "neg 0.9898\n",
            "23 May 2022\n",
            "\n",
            "https://www.aljazeera.com/news/2022/3/18/mozambique-cyclone-gombe-death-toll-rises-to-53\n",
            "Mozambique: Cyclone Gombe death toll rises to 53\n",
            "neg 0.996\n",
            "18 Mar 2022\n",
            "\n",
            "https://www.aljazeera.com/news/2022/3/4/mozambique-announces-new-prime-minister-and-finance-minister\n",
            "Mozambique announces new prime minister after cabinet reshuffle\n",
            "neg 0.9038\n",
            "4 Mar 2022\n",
            "\n",
            "https://www.aljazeera.com/economy/2022/3/1/analysis-can-african-gas-replace-russian-supplies-to-europe\n",
            "Analysis: Can African gas replace Russian supplies to Europe?\n",
            "neg 0.9908\n",
            "1 Mar 2022\n",
            "\n",
            "https://www.aljazeera.com/news/2022/1/27/at-least-70-dead-from-tropical-storm-ana-in-southern-africa\n",
            "Dozens dead from Tropical Storm Ana in southern Africa\n",
            "neg 0.9945\n",
            "27 Jan 2022\n",
            "\n",
            "https://www.aljazeera.com/news/2022/1/12/southern-africa-bloc-sadc-extends-mozambique-mission\n",
            "Southern Africa bloc SADC extends Mozambique mission\n",
            "pos 0.6893\n",
            "12 Jan 2022\n",
            "\n",
            "https://www.aljazeera.com/news/2021/9/24/in-mozambique-kagame-says-rwandan-troops-presence-to-continue\n",
            "In Mozambique, Kagame says Rwandan troops’ work not over\n",
            "neg 0.9069\n",
            "24 Sep 2021\n",
            "\n",
            "https://www.aljazeera.com/news/2021/8/8/rwanda-mozambique-forces-recapture-port-city-from-rebels\n",
            "Rwanda, Mozambique forces recapture port city from rebels\n",
            "neg 0.7817\n",
            "8 Aug 2021\n",
            "\n",
            "https://www.aljazeera.com/news/2021/7/10/rwanda-deploys-1000-soldiers-to-mozambique-cabo-delgado\n",
            "Rwanda deploys 1,000 soldiers to Mozambique’s Cabo Delgado\n",
            "neg 0.9964\n",
            "10 Jul 2021\n",
            "\n",
            "https://www.aljazeera.com/news/2021/6/23/southern-african-nations-agree-to-deploy-forces-to-mozambique\n",
            "Southern African nations agree to deploy forces to Mozambique\n",
            "neg 0.9748\n",
            "23 Jun 2021\n",
            "\n",
            "https://www.aljazeera.com/news/2021/6/20/infographic-world-refugee-day-journey\n",
            "Visualising 70 years of refugee journeys\n",
            "neg 0.9716\n",
            "20 Jun 2021\n",
            "\n",
            "https://www.aljazeera.com/news/2021/6/9/dozens-of-children-mostly-girls-abducted-by-mozambique-fighters\n",
            "Dozens of children, mostly girls, abducted by Mozambique fighters\n",
            "neg 0.9977\n",
            "9 Jun 2021\n",
            "\n",
            "https://www.aljazeera.com/news/2021/5/14/whites-prioritised-ahead-of-black-people-in-palma-rescue-amnesty\n",
            "White people rescued before Black people in Palma: Amnesty\n",
            "neg 0.9997\n",
            "14 May 2021\n",
            "\n"
          ]
        }
      ]
    },
    {
      "cell_type": "code",
      "source": [
        "print(score_list)\n",
        "print(date_list)\n",
        "date_list.reverse()\n",
        "score_list.reverse()"
      ],
      "metadata": {
        "colab": {
          "base_uri": "https://localhost:8080/"
        },
        "id": "ahbXfyL060-t",
        "outputId": "706fcb68-91b7-4a74-ec08-fb649a12012c"
      },
      "execution_count": 165,
      "outputs": [
        {
          "output_type": "stream",
          "name": "stdout",
          "text": [
            "[-0.9898, -0.996, -0.9038, -0.9908, -0.9945, 0.6893, -0.9069, -0.7817, -0.9964, -0.9748, -0.9716, -0.9977, -0.9997]\n",
            "['23 May 2022', '18 Mar 2022', '4 Mar 2022', '1 Mar 2022', '27 Jan 2022', '12 Jan 2022', '24 Sep 2021', '8 Aug 2021', '10 Jul 2021', '23 Jun 2021', '20 Jun 2021', '9 Jun 2021', '14 May 2021']\n"
          ]
        }
      ]
    },
    {
      "cell_type": "code",
      "source": [
        "import plotly.graph_objects as go\n",
        "\n",
        "fig = go.Figure([go.Scatter(x=date_list, y=score_list)])\n",
        "fig.show()\n"
      ],
      "metadata": {
        "colab": {
          "base_uri": "https://localhost:8080/",
          "height": 954
        },
        "id": "iuU8O6Og2HXN",
        "outputId": "16ca9e46-fc04-44cd-b00f-0cf3534c6ff1"
      },
      "execution_count": 169,
      "outputs": [
        {
          "output_type": "display_data",
          "data": {
            "text/html": [
              "<html>\n",
              "<head><meta charset=\"utf-8\" /></head>\n",
              "<body>\n",
              "    <div>            <script src=\"https://cdnjs.cloudflare.com/ajax/libs/mathjax/2.7.5/MathJax.js?config=TeX-AMS-MML_SVG\"></script><script type=\"text/javascript\">if (window.MathJax) {MathJax.Hub.Config({SVG: {font: \"STIX-Web\"}});}</script>                <script type=\"text/javascript\">window.PlotlyConfig = {MathJaxConfig: 'local'};</script>\n",
              "        <script src=\"https://cdn.plot.ly/plotly-2.8.3.min.js\"></script>                <div id=\"5f5c4ad8-cfc7-4b8c-b9a6-4c3a894f6ae8\" class=\"plotly-graph-div\" style=\"height:525px; width:100%;\"></div>            <script type=\"text/javascript\">                                    window.PLOTLYENV=window.PLOTLYENV || {};                                    if (document.getElementById(\"5f5c4ad8-cfc7-4b8c-b9a6-4c3a894f6ae8\")) {                    Plotly.newPlot(                        \"5f5c4ad8-cfc7-4b8c-b9a6-4c3a894f6ae8\",                        [{\"x\":[\"14 May 2021\",\"9 Jun 2021\",\"20 Jun 2021\",\"23 Jun 2021\",\"10 Jul 2021\",\"8 Aug 2021\",\"24 Sep 2021\",\"12 Jan 2022\",\"27 Jan 2022\",\"1 Mar 2022\",\"4 Mar 2022\",\"18 Mar 2022\",\"23 May 2022\"],\"y\":[-0.9997,-0.9977,-0.9716,-0.9748,-0.9964,-0.7817,-0.9069,0.6893,-0.9945,-0.9908,-0.9038,-0.996,-0.9898],\"type\":\"scatter\"}],                        {\"template\":{\"data\":{\"bar\":[{\"error_x\":{\"color\":\"#2a3f5f\"},\"error_y\":{\"color\":\"#2a3f5f\"},\"marker\":{\"line\":{\"color\":\"#E5ECF6\",\"width\":0.5},\"pattern\":{\"fillmode\":\"overlay\",\"size\":10,\"solidity\":0.2}},\"type\":\"bar\"}],\"barpolar\":[{\"marker\":{\"line\":{\"color\":\"#E5ECF6\",\"width\":0.5},\"pattern\":{\"fillmode\":\"overlay\",\"size\":10,\"solidity\":0.2}},\"type\":\"barpolar\"}],\"carpet\":[{\"aaxis\":{\"endlinecolor\":\"#2a3f5f\",\"gridcolor\":\"white\",\"linecolor\":\"white\",\"minorgridcolor\":\"white\",\"startlinecolor\":\"#2a3f5f\"},\"baxis\":{\"endlinecolor\":\"#2a3f5f\",\"gridcolor\":\"white\",\"linecolor\":\"white\",\"minorgridcolor\":\"white\",\"startlinecolor\":\"#2a3f5f\"},\"type\":\"carpet\"}],\"choropleth\":[{\"colorbar\":{\"outlinewidth\":0,\"ticks\":\"\"},\"type\":\"choropleth\"}],\"contour\":[{\"colorbar\":{\"outlinewidth\":0,\"ticks\":\"\"},\"colorscale\":[[0.0,\"#0d0887\"],[0.1111111111111111,\"#46039f\"],[0.2222222222222222,\"#7201a8\"],[0.3333333333333333,\"#9c179e\"],[0.4444444444444444,\"#bd3786\"],[0.5555555555555556,\"#d8576b\"],[0.6666666666666666,\"#ed7953\"],[0.7777777777777778,\"#fb9f3a\"],[0.8888888888888888,\"#fdca26\"],[1.0,\"#f0f921\"]],\"type\":\"contour\"}],\"contourcarpet\":[{\"colorbar\":{\"outlinewidth\":0,\"ticks\":\"\"},\"type\":\"contourcarpet\"}],\"heatmap\":[{\"colorbar\":{\"outlinewidth\":0,\"ticks\":\"\"},\"colorscale\":[[0.0,\"#0d0887\"],[0.1111111111111111,\"#46039f\"],[0.2222222222222222,\"#7201a8\"],[0.3333333333333333,\"#9c179e\"],[0.4444444444444444,\"#bd3786\"],[0.5555555555555556,\"#d8576b\"],[0.6666666666666666,\"#ed7953\"],[0.7777777777777778,\"#fb9f3a\"],[0.8888888888888888,\"#fdca26\"],[1.0,\"#f0f921\"]],\"type\":\"heatmap\"}],\"heatmapgl\":[{\"colorbar\":{\"outlinewidth\":0,\"ticks\":\"\"},\"colorscale\":[[0.0,\"#0d0887\"],[0.1111111111111111,\"#46039f\"],[0.2222222222222222,\"#7201a8\"],[0.3333333333333333,\"#9c179e\"],[0.4444444444444444,\"#bd3786\"],[0.5555555555555556,\"#d8576b\"],[0.6666666666666666,\"#ed7953\"],[0.7777777777777778,\"#fb9f3a\"],[0.8888888888888888,\"#fdca26\"],[1.0,\"#f0f921\"]],\"type\":\"heatmapgl\"}],\"histogram\":[{\"marker\":{\"pattern\":{\"fillmode\":\"overlay\",\"size\":10,\"solidity\":0.2}},\"type\":\"histogram\"}],\"histogram2d\":[{\"colorbar\":{\"outlinewidth\":0,\"ticks\":\"\"},\"colorscale\":[[0.0,\"#0d0887\"],[0.1111111111111111,\"#46039f\"],[0.2222222222222222,\"#7201a8\"],[0.3333333333333333,\"#9c179e\"],[0.4444444444444444,\"#bd3786\"],[0.5555555555555556,\"#d8576b\"],[0.6666666666666666,\"#ed7953\"],[0.7777777777777778,\"#fb9f3a\"],[0.8888888888888888,\"#fdca26\"],[1.0,\"#f0f921\"]],\"type\":\"histogram2d\"}],\"histogram2dcontour\":[{\"colorbar\":{\"outlinewidth\":0,\"ticks\":\"\"},\"colorscale\":[[0.0,\"#0d0887\"],[0.1111111111111111,\"#46039f\"],[0.2222222222222222,\"#7201a8\"],[0.3333333333333333,\"#9c179e\"],[0.4444444444444444,\"#bd3786\"],[0.5555555555555556,\"#d8576b\"],[0.6666666666666666,\"#ed7953\"],[0.7777777777777778,\"#fb9f3a\"],[0.8888888888888888,\"#fdca26\"],[1.0,\"#f0f921\"]],\"type\":\"histogram2dcontour\"}],\"mesh3d\":[{\"colorbar\":{\"outlinewidth\":0,\"ticks\":\"\"},\"type\":\"mesh3d\"}],\"parcoords\":[{\"line\":{\"colorbar\":{\"outlinewidth\":0,\"ticks\":\"\"}},\"type\":\"parcoords\"}],\"pie\":[{\"automargin\":true,\"type\":\"pie\"}],\"scatter\":[{\"marker\":{\"colorbar\":{\"outlinewidth\":0,\"ticks\":\"\"}},\"type\":\"scatter\"}],\"scatter3d\":[{\"line\":{\"colorbar\":{\"outlinewidth\":0,\"ticks\":\"\"}},\"marker\":{\"colorbar\":{\"outlinewidth\":0,\"ticks\":\"\"}},\"type\":\"scatter3d\"}],\"scattercarpet\":[{\"marker\":{\"colorbar\":{\"outlinewidth\":0,\"ticks\":\"\"}},\"type\":\"scattercarpet\"}],\"scattergeo\":[{\"marker\":{\"colorbar\":{\"outlinewidth\":0,\"ticks\":\"\"}},\"type\":\"scattergeo\"}],\"scattergl\":[{\"marker\":{\"colorbar\":{\"outlinewidth\":0,\"ticks\":\"\"}},\"type\":\"scattergl\"}],\"scattermapbox\":[{\"marker\":{\"colorbar\":{\"outlinewidth\":0,\"ticks\":\"\"}},\"type\":\"scattermapbox\"}],\"scatterpolar\":[{\"marker\":{\"colorbar\":{\"outlinewidth\":0,\"ticks\":\"\"}},\"type\":\"scatterpolar\"}],\"scatterpolargl\":[{\"marker\":{\"colorbar\":{\"outlinewidth\":0,\"ticks\":\"\"}},\"type\":\"scatterpolargl\"}],\"scatterternary\":[{\"marker\":{\"colorbar\":{\"outlinewidth\":0,\"ticks\":\"\"}},\"type\":\"scatterternary\"}],\"surface\":[{\"colorbar\":{\"outlinewidth\":0,\"ticks\":\"\"},\"colorscale\":[[0.0,\"#0d0887\"],[0.1111111111111111,\"#46039f\"],[0.2222222222222222,\"#7201a8\"],[0.3333333333333333,\"#9c179e\"],[0.4444444444444444,\"#bd3786\"],[0.5555555555555556,\"#d8576b\"],[0.6666666666666666,\"#ed7953\"],[0.7777777777777778,\"#fb9f3a\"],[0.8888888888888888,\"#fdca26\"],[1.0,\"#f0f921\"]],\"type\":\"surface\"}],\"table\":[{\"cells\":{\"fill\":{\"color\":\"#EBF0F8\"},\"line\":{\"color\":\"white\"}},\"header\":{\"fill\":{\"color\":\"#C8D4E3\"},\"line\":{\"color\":\"white\"}},\"type\":\"table\"}]},\"layout\":{\"annotationdefaults\":{\"arrowcolor\":\"#2a3f5f\",\"arrowhead\":0,\"arrowwidth\":1},\"autotypenumbers\":\"strict\",\"coloraxis\":{\"colorbar\":{\"outlinewidth\":0,\"ticks\":\"\"}},\"colorscale\":{\"diverging\":[[0,\"#8e0152\"],[0.1,\"#c51b7d\"],[0.2,\"#de77ae\"],[0.3,\"#f1b6da\"],[0.4,\"#fde0ef\"],[0.5,\"#f7f7f7\"],[0.6,\"#e6f5d0\"],[0.7,\"#b8e186\"],[0.8,\"#7fbc41\"],[0.9,\"#4d9221\"],[1,\"#276419\"]],\"sequential\":[[0.0,\"#0d0887\"],[0.1111111111111111,\"#46039f\"],[0.2222222222222222,\"#7201a8\"],[0.3333333333333333,\"#9c179e\"],[0.4444444444444444,\"#bd3786\"],[0.5555555555555556,\"#d8576b\"],[0.6666666666666666,\"#ed7953\"],[0.7777777777777778,\"#fb9f3a\"],[0.8888888888888888,\"#fdca26\"],[1.0,\"#f0f921\"]],\"sequentialminus\":[[0.0,\"#0d0887\"],[0.1111111111111111,\"#46039f\"],[0.2222222222222222,\"#7201a8\"],[0.3333333333333333,\"#9c179e\"],[0.4444444444444444,\"#bd3786\"],[0.5555555555555556,\"#d8576b\"],[0.6666666666666666,\"#ed7953\"],[0.7777777777777778,\"#fb9f3a\"],[0.8888888888888888,\"#fdca26\"],[1.0,\"#f0f921\"]]},\"colorway\":[\"#636efa\",\"#EF553B\",\"#00cc96\",\"#ab63fa\",\"#FFA15A\",\"#19d3f3\",\"#FF6692\",\"#B6E880\",\"#FF97FF\",\"#FECB52\"],\"font\":{\"color\":\"#2a3f5f\"},\"geo\":{\"bgcolor\":\"white\",\"lakecolor\":\"white\",\"landcolor\":\"#E5ECF6\",\"showlakes\":true,\"showland\":true,\"subunitcolor\":\"white\"},\"hoverlabel\":{\"align\":\"left\"},\"hovermode\":\"closest\",\"mapbox\":{\"style\":\"light\"},\"paper_bgcolor\":\"white\",\"plot_bgcolor\":\"#E5ECF6\",\"polar\":{\"angularaxis\":{\"gridcolor\":\"white\",\"linecolor\":\"white\",\"ticks\":\"\"},\"bgcolor\":\"#E5ECF6\",\"radialaxis\":{\"gridcolor\":\"white\",\"linecolor\":\"white\",\"ticks\":\"\"}},\"scene\":{\"xaxis\":{\"backgroundcolor\":\"#E5ECF6\",\"gridcolor\":\"white\",\"gridwidth\":2,\"linecolor\":\"white\",\"showbackground\":true,\"ticks\":\"\",\"zerolinecolor\":\"white\"},\"yaxis\":{\"backgroundcolor\":\"#E5ECF6\",\"gridcolor\":\"white\",\"gridwidth\":2,\"linecolor\":\"white\",\"showbackground\":true,\"ticks\":\"\",\"zerolinecolor\":\"white\"},\"zaxis\":{\"backgroundcolor\":\"#E5ECF6\",\"gridcolor\":\"white\",\"gridwidth\":2,\"linecolor\":\"white\",\"showbackground\":true,\"ticks\":\"\",\"zerolinecolor\":\"white\"}},\"shapedefaults\":{\"line\":{\"color\":\"#2a3f5f\"}},\"ternary\":{\"aaxis\":{\"gridcolor\":\"white\",\"linecolor\":\"white\",\"ticks\":\"\"},\"baxis\":{\"gridcolor\":\"white\",\"linecolor\":\"white\",\"ticks\":\"\"},\"bgcolor\":\"#E5ECF6\",\"caxis\":{\"gridcolor\":\"white\",\"linecolor\":\"white\",\"ticks\":\"\"}},\"title\":{\"x\":0.05},\"xaxis\":{\"automargin\":true,\"gridcolor\":\"white\",\"linecolor\":\"white\",\"ticks\":\"\",\"title\":{\"standoff\":15},\"zerolinecolor\":\"white\",\"zerolinewidth\":2},\"yaxis\":{\"automargin\":true,\"gridcolor\":\"white\",\"linecolor\":\"white\",\"ticks\":\"\",\"title\":{\"standoff\":15},\"zerolinecolor\":\"white\",\"zerolinewidth\":2}}}},                        {\"responsive\": true}                    ).then(function(){\n",
              "                            \n",
              "var gd = document.getElementById('5f5c4ad8-cfc7-4b8c-b9a6-4c3a894f6ae8');\n",
              "var x = new MutationObserver(function (mutations, observer) {{\n",
              "        var display = window.getComputedStyle(gd).display;\n",
              "        if (!display || display === 'none') {{\n",
              "            console.log([gd, 'removed!']);\n",
              "            Plotly.purge(gd);\n",
              "            observer.disconnect();\n",
              "        }}\n",
              "}});\n",
              "\n",
              "// Listen for the removal of the full notebook cells\n",
              "var notebookContainer = gd.closest('#notebook-container');\n",
              "if (notebookContainer) {{\n",
              "    x.observe(notebookContainer, {childList: true});\n",
              "}}\n",
              "\n",
              "// Listen for the clearing of the current output cell\n",
              "var outputEl = gd.closest('.output');\n",
              "if (outputEl) {{\n",
              "    x.observe(outputEl, {childList: true});\n",
              "}}\n",
              "\n",
              "                        })                };                            </script>        </div>\n",
              "</body>\n",
              "</html>"
            ]
          },
          "metadata": {}
        },
        {
          "output_type": "error",
          "ename": "ValueError",
          "evalue": "ignored",
          "traceback": [
            "\u001b[0;31m---------------------------------------------------------------------------\u001b[0m",
            "\u001b[0;31mValueError\u001b[0m                                Traceback (most recent call last)",
            "\u001b[0;32m<ipython-input-169-04c51a469cfd>\u001b[0m in \u001b[0;36m<module>\u001b[0;34m()\u001b[0m\n\u001b[1;32m      3\u001b[0m \u001b[0mfig\u001b[0m \u001b[0;34m=\u001b[0m \u001b[0mgo\u001b[0m\u001b[0;34m.\u001b[0m\u001b[0mFigure\u001b[0m\u001b[0;34m(\u001b[0m\u001b[0;34m[\u001b[0m\u001b[0mgo\u001b[0m\u001b[0;34m.\u001b[0m\u001b[0mScatter\u001b[0m\u001b[0;34m(\u001b[0m\u001b[0mx\u001b[0m\u001b[0;34m=\u001b[0m\u001b[0mdate_list\u001b[0m\u001b[0;34m,\u001b[0m \u001b[0my\u001b[0m\u001b[0;34m=\u001b[0m\u001b[0mscore_list\u001b[0m\u001b[0;34m)\u001b[0m\u001b[0;34m]\u001b[0m\u001b[0;34m)\u001b[0m\u001b[0;34m\u001b[0m\u001b[0;34m\u001b[0m\u001b[0m\n\u001b[1;32m      4\u001b[0m \u001b[0mfig\u001b[0m\u001b[0;34m.\u001b[0m\u001b[0mshow\u001b[0m\u001b[0;34m(\u001b[0m\u001b[0;34m)\u001b[0m\u001b[0;34m\u001b[0m\u001b[0;34m\u001b[0m\u001b[0m\n\u001b[0;32m----> 5\u001b[0;31m \u001b[0mfig\u001b[0m\u001b[0;34m.\u001b[0m\u001b[0mwrite_image\u001b[0m\u001b[0;34m(\u001b[0m\u001b[0;34m\"vis.png\"\u001b[0m\u001b[0;34m)\u001b[0m\u001b[0;34m\u001b[0m\u001b[0;34m\u001b[0m\u001b[0m\n\u001b[0m",
            "\u001b[0;32m/usr/local/lib/python3.7/dist-packages/plotly/basedatatypes.py\u001b[0m in \u001b[0;36mwrite_image\u001b[0;34m(self, *args, **kwargs)\u001b[0m\n\u001b[1;32m   3827\u001b[0m         \u001b[0;32mimport\u001b[0m \u001b[0mplotly\u001b[0m\u001b[0;34m.\u001b[0m\u001b[0mio\u001b[0m \u001b[0;32mas\u001b[0m \u001b[0mpio\u001b[0m\u001b[0;34m\u001b[0m\u001b[0;34m\u001b[0m\u001b[0m\n\u001b[1;32m   3828\u001b[0m \u001b[0;34m\u001b[0m\u001b[0m\n\u001b[0;32m-> 3829\u001b[0;31m         \u001b[0;32mreturn\u001b[0m \u001b[0mpio\u001b[0m\u001b[0;34m.\u001b[0m\u001b[0mwrite_image\u001b[0m\u001b[0;34m(\u001b[0m\u001b[0mself\u001b[0m\u001b[0;34m,\u001b[0m \u001b[0;34m*\u001b[0m\u001b[0margs\u001b[0m\u001b[0;34m,\u001b[0m \u001b[0;34m**\u001b[0m\u001b[0mkwargs\u001b[0m\u001b[0;34m)\u001b[0m\u001b[0;34m\u001b[0m\u001b[0;34m\u001b[0m\u001b[0m\n\u001b[0m\u001b[1;32m   3830\u001b[0m \u001b[0;34m\u001b[0m\u001b[0m\n\u001b[1;32m   3831\u001b[0m     \u001b[0;31m# Static helpers\u001b[0m\u001b[0;34m\u001b[0m\u001b[0;34m\u001b[0m\u001b[0;34m\u001b[0m\u001b[0m\n",
            "\u001b[0;32m/usr/local/lib/python3.7/dist-packages/plotly/io/_kaleido.py\u001b[0m in \u001b[0;36mwrite_image\u001b[0;34m(fig, file, format, scale, width, height, validate, engine)\u001b[0m\n\u001b[1;32m    273\u001b[0m         \u001b[0mheight\u001b[0m\u001b[0;34m=\u001b[0m\u001b[0mheight\u001b[0m\u001b[0;34m,\u001b[0m\u001b[0;34m\u001b[0m\u001b[0;34m\u001b[0m\u001b[0m\n\u001b[1;32m    274\u001b[0m         \u001b[0mvalidate\u001b[0m\u001b[0;34m=\u001b[0m\u001b[0mvalidate\u001b[0m\u001b[0;34m,\u001b[0m\u001b[0;34m\u001b[0m\u001b[0;34m\u001b[0m\u001b[0m\n\u001b[0;32m--> 275\u001b[0;31m         \u001b[0mengine\u001b[0m\u001b[0;34m=\u001b[0m\u001b[0mengine\u001b[0m\u001b[0;34m,\u001b[0m\u001b[0;34m\u001b[0m\u001b[0;34m\u001b[0m\u001b[0m\n\u001b[0m\u001b[1;32m    276\u001b[0m     )\n\u001b[1;32m    277\u001b[0m \u001b[0;34m\u001b[0m\u001b[0m\n",
            "\u001b[0;32m/usr/local/lib/python3.7/dist-packages/plotly/io/_kaleido.py\u001b[0m in \u001b[0;36mto_image\u001b[0;34m(fig, format, width, height, scale, validate, engine)\u001b[0m\n\u001b[1;32m    137\u001b[0m \u001b[0mwhich\u001b[0m \u001b[0mcan\u001b[0m \u001b[0mbe\u001b[0m \u001b[0minstalled\u001b[0m \u001b[0musing\u001b[0m \u001b[0mpip\u001b[0m\u001b[0;34m:\u001b[0m\u001b[0;34m\u001b[0m\u001b[0;34m\u001b[0m\u001b[0m\n\u001b[1;32m    138\u001b[0m     \u001b[0;31m$\u001b[0m \u001b[0mpip\u001b[0m \u001b[0minstall\u001b[0m \u001b[0;34m-\u001b[0m\u001b[0mU\u001b[0m \u001b[0mkaleido\u001b[0m\u001b[0;34m\u001b[0m\u001b[0;34m\u001b[0m\u001b[0m\n\u001b[0;32m--> 139\u001b[0;31m \"\"\"\n\u001b[0m\u001b[1;32m    140\u001b[0m         )\n\u001b[1;32m    141\u001b[0m \u001b[0;34m\u001b[0m\u001b[0m\n",
            "\u001b[0;31mValueError\u001b[0m: \nImage export using the \"kaleido\" engine requires the kaleido package,\nwhich can be installed using pip:\n    $ pip install -U kaleido\n"
          ]
        }
      ]
    }
  ]
}